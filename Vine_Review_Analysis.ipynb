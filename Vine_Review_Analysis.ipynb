{
 "cells": [
  {
   "cell_type": "code",
   "execution_count": 1,
   "metadata": {
    "colab": {
     "base_uri": "https://localhost:8080/"
    },
    "id": "2hLM7HMAPfvm",
    "outputId": "01607083-08e9-4406-eec2-689a85c7ae93"
   },
   "outputs": [
    {
     "name": "stdout",
     "output_type": "stream",
     "text": [
      "Get:1 https://cloud.r-project.org/bin/linux/ubuntu bionic-cran40/ InRelease [3,626 B]\n",
      "Hit:2 http://archive.ubuntu.com/ubuntu bionic InRelease\n",
      "Get:3 http://ppa.launchpad.net/c2d4u.team/c2d4u4.0+/ubuntu bionic InRelease [15.9 kB]\n",
      "Get:4 https://cloud.r-project.org/bin/linux/ubuntu bionic-cran40/ Packages [82.3 kB]\n",
      "Get:5 http://archive.ubuntu.com/ubuntu bionic-updates InRelease [88.7 kB]\n",
      "Get:6 http://security.ubuntu.com/ubuntu bionic-security InRelease [88.7 kB]\n",
      "Ign:7 https://developer.download.nvidia.com/compute/cuda/repos/ubuntu1804/x86_64  InRelease\n",
      "Ign:8 https://developer.download.nvidia.com/compute/machine-learning/repos/ubuntu1804/x86_64  InRelease\n",
      "Get:9 https://developer.download.nvidia.com/compute/cuda/repos/ubuntu1804/x86_64  Release [696 B]\n",
      "Hit:10 https://developer.download.nvidia.com/compute/machine-learning/repos/ubuntu1804/x86_64  Release\n",
      "Get:11 https://developer.download.nvidia.com/compute/cuda/repos/ubuntu1804/x86_64  Release.gpg [836 B]\n",
      "Get:12 http://archive.ubuntu.com/ubuntu bionic-backports InRelease [74.6 kB]\n",
      "Hit:13 http://ppa.launchpad.net/cran/libgit2/ubuntu bionic InRelease\n",
      "Get:15 https://developer.download.nvidia.com/compute/cuda/repos/ubuntu1804/x86_64  Packages [952 kB]\n",
      "Get:16 http://ppa.launchpad.net/deadsnakes/ppa/ubuntu bionic InRelease [15.9 kB]\n",
      "Get:17 http://archive.ubuntu.com/ubuntu bionic-updates/universe amd64 Packages [2,268 kB]\n",
      "Get:18 http://security.ubuntu.com/ubuntu bionic-security/main amd64 Packages [2,694 kB]\n",
      "Get:19 http://ppa.launchpad.net/graphics-drivers/ppa/ubuntu bionic InRelease [21.3 kB]\n",
      "Get:20 http://archive.ubuntu.com/ubuntu bionic-updates/multiverse amd64 Packages [29.8 kB]\n",
      "Get:21 http://archive.ubuntu.com/ubuntu bionic-updates/main amd64 Packages [3,133 kB]\n",
      "Get:22 http://ppa.launchpad.net/c2d4u.team/c2d4u4.0+/ubuntu bionic/main Sources [1,831 kB]\n",
      "Get:23 http://archive.ubuntu.com/ubuntu bionic-updates/restricted amd64 Packages [918 kB]\n",
      "Get:24 http://archive.ubuntu.com/ubuntu bionic-backports/main amd64 Packages [12.2 kB]\n",
      "Get:25 http://archive.ubuntu.com/ubuntu bionic-backports/universe amd64 Packages [12.9 kB]\n",
      "Get:26 http://security.ubuntu.com/ubuntu bionic-security/restricted amd64 Packages [884 kB]\n",
      "Get:27 http://security.ubuntu.com/ubuntu bionic-security/universe amd64 Packages [1,490 kB]\n",
      "Get:28 http://ppa.launchpad.net/c2d4u.team/c2d4u4.0+/ubuntu bionic/main amd64 Packages [938 kB]\n",
      "Get:29 http://ppa.launchpad.net/deadsnakes/ppa/ubuntu bionic/main amd64 Packages [45.2 kB]\n",
      "Get:30 http://ppa.launchpad.net/graphics-drivers/ppa/ubuntu bionic/main amd64 Packages [44.3 kB]\n",
      "Fetched 15.6 MB in 9s (1,695 kB/s)\n",
      "Reading package lists... Done\n"
     ]
    }
   ],
   "source": [
    "import os\n",
    "# Find the latest version of spark 3.0 from http://www.apache.org/dist/spark/ and enter as the spark version\n",
    "# For example:\n",
    "# spark_version = 'spark-3.0.3'\n",
    "spark_version = 'spark-3.0.3'\n",
    "os.environ['SPARK_VERSION']=spark_version\n",
    "\n",
    "# Install Spark and Java\n",
    "!apt-get update\n",
    "!apt-get install openjdk-11-jdk-headless -qq > /dev/null\n",
    "!wget -q http://www.apache.org/dist/spark/$SPARK_VERSION/$SPARK_VERSION-bin-hadoop2.7.tgz\n",
    "!tar xf $SPARK_VERSION-bin-hadoop2.7.tgz\n",
    "!pip install -q findspark\n",
    "\n",
    "# Set Environment Variables\n",
    "import os\n",
    "os.environ[\"JAVA_HOME\"] = \"/usr/lib/jvm/java-11-openjdk-amd64\"\n",
    "os.environ[\"SPARK_HOME\"] = f\"/content/{spark_version}-bin-hadoop2.7\"\n",
    "\n",
    "# Start a SparkSession\n",
    "import findspark\n",
    "findspark.init()"
   ]
  },
  {
   "cell_type": "code",
   "execution_count": 2,
   "metadata": {
    "id": "xapCEHI-Q2m4"
   },
   "outputs": [],
   "source": [
    "from pyspark.sql import SparkSession\n",
    "spark = SparkSession.builder.appName(\"M16-Amazon-Challenge\").config(\"spark.driver.extraClassPath\",\"/content/postgresql-42.2.16.jar\").getOrCreate()"
   ]
  },
  {
   "cell_type": "code",
   "execution_count": 3,
   "metadata": {
    "colab": {
     "base_uri": "https://localhost:8080/"
    },
    "id": "Xt9x1KyvQ2qu",
    "outputId": "52da67e3-2283-4a38-fe74-91f816f1947d"
   },
   "outputs": [
    {
     "name": "stdout",
     "output_type": "stream",
     "text": [
      "+-----------+-----------+--------------+----------+--------------+--------------------+----------------+-----------+-------------+-----------+----+-----------------+--------------------+--------------------+-----------+\n",
      "|marketplace|customer_id|     review_id|product_id|product_parent|       product_title|product_category|star_rating|helpful_votes|total_votes|vine|verified_purchase|     review_headline|         review_body|review_date|\n",
      "+-----------+-----------+--------------+----------+--------------+--------------------+----------------+-----------+-------------+-----------+----+-----------------+--------------------+--------------------+-----------+\n",
      "|         US|   36075342| RAB23OVFNCXZQ|B00LPRXQ4Y|     339193102|17\" 2003-2006 For...|      Automotive|          1|            0|          0|   N|                Y|     As it was used,|As it was used, t...| 2015-08-31|\n",
      "|         US|   42462164|R3NORADVJO6IE6|B000C7S0TO|     907684644|Spectra Premium C...|      Automotive|          5|            0|          0|   N|                Y|          Five Stars|Put it in fine, n...| 2015-08-31|\n",
      "|         US|   21241933|R299F4SO98S5OO|B000CO9WE4|     752246352|K&N E-4665 High P...|      Automotive|          5|            1|          1|   N|                Y|Great fit and per...|Fit wonderfully o...| 2015-08-31|\n",
      "|         US|   52570308|R2DA9DOT03UW6I|B000GKD5NI|     105401756|Suncutters Rear W...|      Automotive|          5|            2|          3|   N|                Y|Good for the pric...|Good for the pric...| 2015-08-31|\n",
      "|         US|   38200102|R2OGCH681EQHU6|B009SDA7TE|     728471129|Lug Nuts Landcrui...|      Automotive|          5|            0|          0|   N|                Y|          Five Stars|Fit perfectly on ...| 2015-08-31|\n",
      "|         US|   34866169| R2JMKIC16MHD7|B00KV15KRG|     962286893|Fits 2007-2009 Ho...|      Automotive|          5|            2|          2|   N|                Y|Fit Well and Bett...|Product fits well...| 2015-08-31|\n",
      "|         US|     184627|R1DB5DA7CWWTI8|B0002JMAKW|     267002949|Castrol 12614 Dot...|      Automotive|          5|            0|          0|   N|                Y|convenient, fast ...|convenient ,fast ...| 2015-08-31|\n",
      "|         US|    2975964|R1N8XWFDK4QACP|B00XJKMM6S|     570789093|New Power Window ...|      Automotive|          5|            0|          0|   N|                Y|          Five Stars|             is good| 2015-08-31|\n",
      "|         US|   40946484|R19VFLX6MRU0CX|B000C5CEKC|     389524802|Motorad MGC-791 L...|      Automotive|          5|            0|          0|   N|                Y|GOOD deal.  Great...|wonderful.  if yo...| 2015-08-31|\n",
      "|         US|   12554469| RLTD8YDGTP9PT|B00GD9R2A8|      21425394|Genuine Ford AL3Z...|      Automotive|          1|            0|          0|   N|                Y|Does not fit my F...|Does not work wit...| 2015-08-31|\n",
      "|         US|   35335277| R78B5LCFJ52SR|B00RM327NG|     816815445|Air Vent Smartpho...|      Automotive|          4|            0|          0|   N|                Y|            Not bad!|I really loved th...| 2015-08-31|\n",
      "|         US|   44957003|R33SKWL0HEQIQ9|B0071NL7UQ|     192225755|FDJ New Replaceme...|      Automotive|          5|            0|          0|   N|                Y|          Five Stars| Just what I wanted.| 2015-08-31|\n",
      "|         US|     444125|R1HIOV0UX7P13D|B00DSOL0FY|     849414056|Omix-Ada 17402.09...|      Automotive|          5|            0|          0|   N|                Y|          Five Stars|Great product and...| 2015-08-31|\n",
      "|         US|   35829199| R4WS0E0MSP9DH|B00GRV48TK|     651316983|GMB 530-2480 Fuel...|      Automotive|          5|            2|          2|   N|                Y|           Well made|Appears to be wel...| 2015-08-31|\n",
      "|         US|   16825098| R2RUIDUMDKG7P|B000E4PCGE|     694793259|00-03 NISSAN SENT...|      Automotive|          3|            0|          0|   N|                Y|new and a great l...|Product was as de...| 2015-08-31|\n",
      "|         US|    2583392| RZSA6L4M4D4XA|B005Z8HAUK|     732072782|Slime 40026 2X He...|      Automotive|          5|            0|          0|   N|                Y|          Five Stars|SO much quieter t...| 2015-08-31|\n",
      "|         US|   10127903|R1O3NGQNCFXKR6|B0043AV4NK|     533179941|MegaBrand N1 4\" B...|      Automotive|          5|            0|          0|   N|                Y|              decent|Great for the pri...| 2015-08-31|\n",
      "|         US|   17937309|R2IEM66RCBJ95A|B00CDHD76C|     126169507|Jackly 45-in-One ...|      Automotive|          5|            0|          0|   N|                Y|Nice set of tools...|Nice set of tools...| 2015-08-31|\n",
      "|         US|   17145638|R2BQ9O517KSCP8|B000CF1XO0|     475232737|Bosch 3397118942 ...|      Automotive|          5|            0|          0|   N|                N|          Five Stars|       Everything ok| 2015-08-31|\n",
      "|         US|   32813839|R1KF86427VR7AC|B003VLBPJA|     897802619|Heavy-Duty 15\" Ca...|      Automotive|          3|            0|          0|   N|                Y|         Three Stars|I hope the hooks ...| 2015-08-31|\n",
      "+-----------+-----------+--------------+----------+--------------+--------------------+----------------+-----------+-------------+-----------+----+-----------------+--------------------+--------------------+-----------+\n",
      "only showing top 20 rows\n",
      "\n"
     ]
    }
   ],
   "source": [
    "from pyspark import SparkFiles\n",
    "url = \"https://s3.amazonaws.com/amazon-reviews-pds/tsv/amazon_reviews_us_Automotive_v1_00.tsv.gz\"\n",
    "spark.sparkContext.addFile(url)\n",
    "df = spark.read.option(\"encoding\", \"UTF-8\").csv(SparkFiles.get(\"\"), sep=\"\\t\", header=True, inferSchema=True)\n",
    "df.show()"
   ]
  },
  {
   "cell_type": "code",
   "execution_count": 4,
   "metadata": {
    "colab": {
     "base_uri": "https://localhost:8080/"
    },
    "id": "XemGI690Q2u6",
    "outputId": "4217054c-39bf-4ff1-f1c8-a21048405e4e"
   },
   "outputs": [
    {
     "name": "stdout",
     "output_type": "stream",
     "text": [
      "+--------------+-----------+-------------+-----------+----+-----------------+\n",
      "|     review_id|star_rating|helpful_votes|total_votes|vine|verified_purchase|\n",
      "+--------------+-----------+-------------+-----------+----+-----------------+\n",
      "| RAB23OVFNCXZQ|          1|            0|          0|   N|                Y|\n",
      "|R3NORADVJO6IE6|          5|            0|          0|   N|                Y|\n",
      "|R299F4SO98S5OO|          5|            1|          1|   N|                Y|\n",
      "|R2DA9DOT03UW6I|          5|            2|          3|   N|                Y|\n",
      "|R2OGCH681EQHU6|          5|            0|          0|   N|                Y|\n",
      "| R2JMKIC16MHD7|          5|            2|          2|   N|                Y|\n",
      "|R1DB5DA7CWWTI8|          5|            0|          0|   N|                Y|\n",
      "|R1N8XWFDK4QACP|          5|            0|          0|   N|                Y|\n",
      "|R19VFLX6MRU0CX|          5|            0|          0|   N|                Y|\n",
      "| RLTD8YDGTP9PT|          1|            0|          0|   N|                Y|\n",
      "| R78B5LCFJ52SR|          4|            0|          0|   N|                Y|\n",
      "|R33SKWL0HEQIQ9|          5|            0|          0|   N|                Y|\n",
      "|R1HIOV0UX7P13D|          5|            0|          0|   N|                Y|\n",
      "| R4WS0E0MSP9DH|          5|            2|          2|   N|                Y|\n",
      "| R2RUIDUMDKG7P|          3|            0|          0|   N|                Y|\n",
      "| RZSA6L4M4D4XA|          5|            0|          0|   N|                Y|\n",
      "|R1O3NGQNCFXKR6|          5|            0|          0|   N|                Y|\n",
      "|R2IEM66RCBJ95A|          5|            0|          0|   N|                Y|\n",
      "|R2BQ9O517KSCP8|          5|            0|          0|   N|                N|\n",
      "|R1KF86427VR7AC|          3|            0|          0|   N|                Y|\n",
      "+--------------+-----------+-------------+-----------+----+-----------------+\n",
      "only showing top 20 rows\n",
      "\n"
     ]
    }
   ],
   "source": [
    "# Create the vine_table. DataFrame\n",
    "vine_df = df.select([\"review_id\",\"star_rating\",\"helpful_votes\",\"total_votes\",\"vine\",\"verified_purchase\"])\n",
    "vine_df.show()"
   ]
  },
  {
   "cell_type": "code",
   "execution_count": 18,
   "metadata": {
    "colab": {
     "base_uri": "https://localhost:8080/"
    },
    "id": "jkPISPWkVHF4",
    "outputId": "1d97fb8d-7532-46e2-a56a-7210362c408e"
   },
   "outputs": [
    {
     "name": "stdout",
     "output_type": "stream",
     "text": [
      "+--------------+-----------+-------------+-----------+----+-----------------+\n",
      "|     review_id|star_rating|helpful_votes|total_votes|vine|verified_purchase|\n",
      "+--------------+-----------+-------------+-----------+----+-----------------+\n",
      "|R1T4FVSABO0IDP|          5|            8|         31|   N|                Y|\n",
      "|R397VXR1GAK6C9|          5|           21|         21|   N|                Y|\n",
      "|R2H6KB9RHS17GA|          3|           59|         69|   N|                Y|\n",
      "|R3HAK0MUN9F5IT|          1|            6|         28|   N|                Y|\n",
      "|R29UTZTOPUVRSV|          5|           21|         21|   N|                Y|\n",
      "| RY9FLUD8VG6XD|          4|           27|         32|   N|                Y|\n",
      "|R3Q5NAY8BGAKHI|          5|           34|         40|   N|                Y|\n",
      "| RRVJ7TYDEK7EO|          5|           30|         30|   N|                Y|\n",
      "|R2S4CHISQA2WDH|          5|           17|         20|   N|                Y|\n",
      "|R1JNALJ77OULPH|          4|           57|         65|   N|                Y|\n",
      "+--------------+-----------+-------------+-----------+----+-----------------+\n",
      "only showing top 10 rows\n",
      "\n"
     ]
    }
   ],
   "source": [
    "# Filter the data and create a new DataFrame or table to retrieve all the rows where the total_votes count is equal to or greater than 20\n",
    "filter_vine_df = vine_df.filter(\"total_votes >= 20\")\n",
    "filter_vine_df.show(10)"
   ]
  },
  {
   "cell_type": "code",
   "execution_count": 19,
   "metadata": {
    "colab": {
     "base_uri": "https://localhost:8080/"
    },
    "id": "1SAB0dB8VHI4",
    "outputId": "3dea9d2e-f5e5-41b3-fde1-d096a42332d0"
   },
   "outputs": [
    {
     "name": "stdout",
     "output_type": "stream",
     "text": [
      "+--------------+-----------+-------------+-----------+----+-----------------+\n",
      "|     review_id|star_rating|helpful_votes|total_votes|vine|verified_purchase|\n",
      "+--------------+-----------+-------------+-----------+----+-----------------+\n",
      "|R397VXR1GAK6C9|          5|           21|         21|   N|                Y|\n",
      "|R2H6KB9RHS17GA|          3|           59|         69|   N|                Y|\n",
      "|R29UTZTOPUVRSV|          5|           21|         21|   N|                Y|\n",
      "| RY9FLUD8VG6XD|          4|           27|         32|   N|                Y|\n",
      "|R3Q5NAY8BGAKHI|          5|           34|         40|   N|                Y|\n",
      "| RRVJ7TYDEK7EO|          5|           30|         30|   N|                Y|\n",
      "|R2S4CHISQA2WDH|          5|           17|         20|   N|                Y|\n",
      "|R1JNALJ77OULPH|          4|           57|         65|   N|                Y|\n",
      "|R13YNG792BCR77|          5|           19|         20|   N|                Y|\n",
      "|R1RYG8MVOPK4Q2|          5|           18|         20|   N|                Y|\n",
      "+--------------+-----------+-------------+-----------+----+-----------------+\n",
      "only showing top 10 rows\n",
      "\n"
     ]
    }
   ],
   "source": [
    "# Filter the new DataFrame or table created in Step 1 and create a new DataFrame or table to retrieve all the rows where the number of helpful_votes divided by total_votes is equal to or greater than 50%\n",
    "filter2_vine_df = filter_vine_df.where(filter_vine_df[\"helpful_votes\"]/filter_vine_df[\"total_votes\"] >= 0.5)\n",
    "filter2_vine_df.show(10)"
   ]
  },
  {
   "cell_type": "code",
   "execution_count": 33,
   "metadata": {
    "colab": {
     "base_uri": "https://localhost:8080/"
    },
    "id": "H1jVTa50VHMp",
    "outputId": "210a7349-8acf-4ad6-8ee1-0679b36aa1af"
   },
   "outputs": [
    {
     "name": "stdout",
     "output_type": "stream",
     "text": [
      "+--------------+-----------+-------------+-----------+----+-----------------+\n",
      "|     review_id|star_rating|helpful_votes|total_votes|vine|verified_purchase|\n",
      "+--------------+-----------+-------------+-----------+----+-----------------+\n",
      "| REKN4PLM5174P|          4|          219|        225|   Y|                N|\n",
      "| RQOG8IIJX7CKB|          4|           21|         27|   Y|                N|\n",
      "|R33EJ9PSZR13CM|          4|           26|         30|   Y|                N|\n",
      "| RD2BFV896F321|          5|           16|         20|   Y|                N|\n",
      "|R37GSXLA11XF8N|          5|           30|         34|   Y|                N|\n",
      "| RQBQYBM9VMSH4|          5|           19|         20|   Y|                N|\n",
      "|R2YE4F9ESKFWEK|          3|           20|         23|   Y|                N|\n",
      "|R1E4L7HHB8TBP9|          4|           80|         92|   Y|                N|\n",
      "|R2C2WXDXMZL005|          2|           20|         25|   Y|                N|\n",
      "|R1PPY4U0K03KTE|          5|           31|         38|   Y|                N|\n",
      "|R12SMR88Q45MWQ|          3|           23|         24|   Y|                N|\n",
      "|R188VWFDBDWRR0|          4|           35|         38|   Y|                N|\n",
      "| RUE8J5M74KJUP|          1|           37|         42|   Y|                N|\n",
      "|R3IMZIN7Y64IP1|          1|           19|         23|   Y|                N|\n",
      "|R17RGR2YSZ5UDG|          4|           19|         24|   Y|                N|\n",
      "|R2SBNSIBLPIIG6|          4|           47|         53|   Y|                N|\n",
      "|R197MLUGNBO8SK|          5|           24|         29|   Y|                N|\n",
      "|R21QBM40D91D00|          3|           18|         25|   Y|                N|\n",
      "|R1Z5U87WQ4LVJG|          4|           89|        101|   Y|                N|\n",
      "| RAT9CVRLRHXQZ|          5|           50|         54|   Y|                N|\n",
      "+--------------+-----------+-------------+-----------+----+-----------------+\n",
      "only showing top 20 rows\n",
      "\n"
     ]
    }
   ],
   "source": [
    "# Filter the DataFrame or table created in Step 2, and create a new DataFrame or table that retrieves all the rows where a review was written as part of the Vine program (paid)\n",
    "paid_vine_df = filter2_vine_df.filter(filter2_vine_df[\"vine\"] == \"Y\")\n",
    "paid_vine_df.show()"
   ]
  },
  {
   "cell_type": "code",
   "execution_count": 34,
   "metadata": {
    "colab": {
     "base_uri": "https://localhost:8080/"
    },
    "id": "OJ2KqvVke2N1",
    "outputId": "87e73988-5804-467a-fa64-493abc32b4ae"
   },
   "outputs": [
    {
     "name": "stdout",
     "output_type": "stream",
     "text": [
      "+--------------+-----------+-------------+-----------+----+-----------------+\n",
      "|     review_id|star_rating|helpful_votes|total_votes|vine|verified_purchase|\n",
      "+--------------+-----------+-------------+-----------+----+-----------------+\n",
      "|R397VXR1GAK6C9|          5|           21|         21|   N|                Y|\n",
      "|R2H6KB9RHS17GA|          3|           59|         69|   N|                Y|\n",
      "|R29UTZTOPUVRSV|          5|           21|         21|   N|                Y|\n",
      "| RY9FLUD8VG6XD|          4|           27|         32|   N|                Y|\n",
      "|R3Q5NAY8BGAKHI|          5|           34|         40|   N|                Y|\n",
      "| RRVJ7TYDEK7EO|          5|           30|         30|   N|                Y|\n",
      "|R2S4CHISQA2WDH|          5|           17|         20|   N|                Y|\n",
      "|R1JNALJ77OULPH|          4|           57|         65|   N|                Y|\n",
      "|R13YNG792BCR77|          5|           19|         20|   N|                Y|\n",
      "|R1RYG8MVOPK4Q2|          5|           18|         20|   N|                Y|\n",
      "|R2V9VX4YQ8TQ24|          5|           33|         36|   N|                Y|\n",
      "|R2UCJ0GANHZVA8|          5|           21|         21|   N|                Y|\n",
      "| R8MJZ3925MBK0|          5|           96|         98|   N|                Y|\n",
      "|R378YNR0LMM3DP|          2|           41|         47|   N|                Y|\n",
      "|R2UIEYEJPJC9EM|          5|           64|         70|   N|                N|\n",
      "| RX2K8ERZ5BENR|          5|           52|         56|   N|                Y|\n",
      "|R34VOML4JURU4E|          1|           34|         35|   N|                Y|\n",
      "|R21FPJN76XM6J8|          3|           43|         52|   N|                Y|\n",
      "|R1YMR7QJ7OR3DE|          1|           21|         22|   N|                Y|\n",
      "|R104OMNNT1A7HJ|          5|           20|         24|   N|                Y|\n",
      "+--------------+-----------+-------------+-----------+----+-----------------+\n",
      "only showing top 20 rows\n",
      "\n"
     ]
    }
   ],
   "source": [
    "# retrieve all the rows where the review was not part of the Vine program (unpaid)\n",
    "unpaid_vine_df = filter2_vine_df.filter(filter2_vine_df[\"vine\"] == \"N\")\n",
    "unpaid_vine_df.show()"
   ]
  },
  {
   "cell_type": "code",
   "execution_count": 36,
   "metadata": {
    "colab": {
     "base_uri": "https://localhost:8080/"
    },
    "id": "PQny-5nKf1OQ",
    "outputId": "ccb958ee-5e43-4e06-8020-283dd4e518ff"
   },
   "outputs": [
    {
     "name": "stdout",
     "output_type": "stream",
     "text": [
      "82\n",
      "33\n",
      "40.243902439024396\n"
     ]
    }
   ],
   "source": [
    "# The total number of reviews, the number of 5-star reviews, and the percentage 5-star reviews\n",
    "\n",
    "# Determine the percentage of five-star reviews among Paid reviews\n",
    "paid_total = paid_vine_df.count()\n",
    "paid_five_star = paid_vine_df.filter(paid_vine_df['star_rating']== 5).count()\n",
    "percentage_paid_five_star = float(paid_five_star) / float(paid_total) *100\n",
    "print(paid_total)\n",
    "print(paid_five_star)\n",
    "print(percentage_paid_five_star)"
   ]
  },
  {
   "cell_type": "code",
   "execution_count": 37,
   "metadata": {
    "colab": {
     "base_uri": "https://localhost:8080/"
    },
    "id": "aY7OySMDg6xS",
    "outputId": "a746baf5-1587-4ed7-c386-12995becf1d6"
   },
   "outputs": [
    {
     "name": "stdout",
     "output_type": "stream",
     "text": [
      "24742\n",
      "12807\n",
      "51.76218575701237\n"
     ]
    }
   ],
   "source": [
    "# Determine the percentage of five-star reviews among UnPaid reviews\n",
    "unpaid_total = unpaid_vine_df.count()\n",
    "unpaid_five_star = unpaid_vine_df.filter(unpaid_vine_df['star_rating']== 5).count()\n",
    "percentage_unpaid_five_star = float(unpaid_five_star) / float(unpaid_total) *100\n",
    "print(unpaid_total)\n",
    "print(unpaid_five_star)\n",
    "print(percentage_unpaid_five_star)"
   ]
  },
  {
   "cell_type": "code",
   "execution_count": 38,
   "metadata": {
    "colab": {
     "base_uri": "https://localhost:8080/"
    },
    "id": "OJilf8gRhZKl",
    "outputId": "98ce3cb7-d6fa-463d-88e7-304039c00b1e"
   },
   "outputs": [
    {
     "name": "stdout",
     "output_type": "stream",
     "text": [
      "24824\n",
      "12840\n"
     ]
    }
   ],
   "source": [
    "# Total amount of reviews\n",
    "print(paid_total + unpaid_total)\n",
    "print(paid_five_star + unpaid_five_star)"
   ]
  }
 ],
 "metadata": {
  "colab": {
   "name": "Vine_Review_Analysis.ipynb",
   "provenance": []
  },
  "kernelspec": {
   "display_name": "Python 3 (ipykernel)",
   "language": "python",
   "name": "python3"
  },
  "language_info": {
   "codemirror_mode": {
    "name": "ipython",
    "version": 3
   },
   "file_extension": ".py",
   "mimetype": "text/x-python",
   "name": "python",
   "nbconvert_exporter": "python",
   "pygments_lexer": "ipython3",
   "version": "3.9.7"
  }
 },
 "nbformat": 4,
 "nbformat_minor": 1
}
